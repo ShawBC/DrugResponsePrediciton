{
 "cells": [
  {
   "cell_type": "code",
   "execution_count": null,
   "metadata": {},
   "outputs": [],
   "source": [
    "! pip install sweetviz"
   ]
  },
  {
   "cell_type": "code",
   "execution_count": null,
   "metadata": {},
   "outputs": [],
   "source": [
    "! pip install openpyxl"
   ]
  },
  {
   "cell_type": "markdown",
   "metadata": {},
   "source": [
    "# 1. Read in the GDSC Dataset"
   ]
  },
  {
   "cell_type": "code",
   "execution_count": null,
   "metadata": {},
   "outputs": [],
   "source": [
    "import pandas as pd\n",
    "gdsc = pd.read_excel('gdsc.xlsx')"
   ]
  },
  {
   "cell_type": "code",
   "execution_count": null,
   "metadata": {},
   "outputs": [],
   "source": [
    "columns_to_drop = ['NLME_RESULT_ID','NLME_CURVE_ID','COSMIC_ID', 'SANGER_MODEL_ID', 'COMPANY_ID', 'COMPANY_ID', 'RMSE', 'DATASET', 'WEBRELEASE']\n",
    "gdsc_alt = gdsc.drop(columns_to_drop, inplace=False, axis=1)\n"
   ]
  },
  {
   "cell_type": "markdown",
   "metadata": {},
   "source": [
    "# 2. Explore Generally using SweetViz"
   ]
  },
  {
   "cell_type": "code",
   "execution_count": null,
   "metadata": {},
   "outputs": [],
   "source": [
    "gdsc"
   ]
  },
  {
   "cell_type": "code",
   "execution_count": null,
   "metadata": {},
   "outputs": [],
   "source": [
    "import sweetviz as sv\n",
    "# analysis = sv.analyze(gdsc)\n",
    "# analysis.show_html('gdsc.html', open_browser=True, layout='widescreen')"
   ]
  },
  {
   "cell_type": "code",
   "execution_count": null,
   "metadata": {},
   "outputs": [],
   "source": [
    "columns_to_drop = ['NLME_RESULT_ID','NLME_CURVE_ID','COSMIC_ID', 'SANGER_MODEL_ID', 'COMPANY_ID', 'COMPANY_ID', 'RMSE', 'DATASET', 'WEBRELEASE']\n",
    "gdsc_alt = gdsc.drop(columns_to_drop, inplace=False, axis=1)\n",
    "# analysis = sv.analyze(gdsc_alt)\n",
    "# analysis.show_html('gdsc_alt.html', open_browser=True, layout='widescreen')"
   ]
  },
  {
   "cell_type": "markdown",
   "metadata": {},
   "source": [
    "# 3. Explore Specifically using Pandas and Generate Insights"
   ]
  },
  {
   "cell_type": "code",
   "execution_count": null,
   "metadata": {},
   "outputs": [],
   "source": [
    "! pip install seaborn"
   ]
  },
  {
   "cell_type": "code",
   "execution_count": null,
   "metadata": {},
   "outputs": [],
   "source": [
    "import pandas as pd\n",
    "import numpy as np\n",
    "import matplotlib.pyplot as plt\n",
    "import seaborn as sns\n"
   ]
  },
  {
   "cell_type": "code",
   "execution_count": null,
   "metadata": {},
   "outputs": [],
   "source": [
    "gdsc_alt"
   ]
  },
  {
   "cell_type": "markdown",
   "metadata": {},
   "source": [
    "## Basic Summary Statistics"
   ]
  },
  {
   "cell_type": "code",
   "execution_count": null,
   "metadata": {},
   "outputs": [],
   "source": [
    "total_entries = gdsc_alt.shape[0]\n",
    "total_entries\n"
   ]
  },
  {
   "cell_type": "code",
   "execution_count": null,
   "metadata": {},
   "outputs": [],
   "source": [
    "unique_drugs = gdsc_alt[\"DRUG_NAME\"].nunique()\n",
    "unique_drugs"
   ]
  },
  {
   "cell_type": "markdown",
   "metadata": {},
   "source": [
    "## Average Values"
   ]
  },
  {
   "cell_type": "code",
   "execution_count": null,
   "metadata": {},
   "outputs": [],
   "source": [
    "average_min_conc = gdsc_alt[\"MIN_CONC\"].mean()\n",
    "average_max_conc = gdsc_alt[\"MAX_CONC\"].mean()\n",
    "average_ln_ic50 = gdsc_alt[\"LN_IC50\"].mean()\n",
    "average_auc = gdsc_alt[\"AUC\"].mean()\n",
    "\n",
    "\n",
    "print(f\"Average min conc: {average_min_conc}\")\n",
    "print(f\"Average max conc: {average_max_conc}\")\n",
    "print(f\"Average ln ic50: {average_ln_ic50}\")\n",
    "print(f\"Average auc: {average_auc}\")\n",
    "\n"
   ]
  },
  {
   "cell_type": "markdown",
   "metadata": {},
   "source": [
    "## Visualisation and Correlation"
   ]
  },
  {
   "cell_type": "code",
   "execution_count": null,
   "metadata": {},
   "outputs": [],
   "source": [
    "# Calculate the drug counts\n",
    "drug_counts = gdsc_alt[\"DRUG_NAME\"].value_counts().reset_index()\n",
    "drug_counts.columns = [\"Drug Name\", \"Count\"]\n",
    "\n",
    "# Display the table\n",
    "print(drug_counts)\n",
    "\n",
    "\n"
   ]
  },
  {
   "cell_type": "code",
   "execution_count": null,
   "metadata": {},
   "outputs": [],
   "source": [
    "fig, axes = plt.subplots(nrows=1, ncols=2, figsize=(15,5))\n",
    "\n",
    "sns.histplot(gdsc_alt[\"LN_IC50\"], kde=True, ax=axes[0])\n",
    "axes[0].set_title(\"Distribution of LN_IC50\")\n",
    "mean_ln_ic50 = gdsc_alt[\"LN_IC50\"].mean()\n",
    "std_ln_ic50 = gdsc_alt[\"LN_IC50\"].std()\n",
    "var_ln_ic50 = gdsc_alt[\"LN_IC50\"].var()\n",
    "\n",
    "print(\"Mean of LN_IC50:\", mean_ln_ic50)\n",
    "print(\"Standard Deviation of LN_IC50:\", std_ln_ic50)\n",
    "print(\"Variance of LN_IC50:\", var_ln_ic50)\n",
    "\n",
    "\n",
    "# AUC plot with adjusted KDE\n",
    "sns.histplot(gdsc_alt[\"AUC\"], kde=True, stat=\"probability\", ax=axes[1])\n",
    "axes[1].set_title(\"Distribution of AUC\")\n",
    "\n",
    "\n",
    "plt.tight_layout()\n",
    "plt.show()\n"
   ]
  },
  {
   "cell_type": "markdown",
   "metadata": {},
   "source": [
    "LN_IC50: Gives insights into the natural logarithm of the half-maximal inhibitory concentration. Understanding the distribution can provide insights into how different cancer cells respond to different drug concentrations.\n",
    "\n",
    "AUC: The Area Under the Curve for the dose-response curve is a critical metric in pharmacology. If most of the values cluster around higher values, it suggests that many drugs had effective responses across various concentrations. Conversely, if they cluster around lower values, it indicates less efficacy."
   ]
  },
  {
   "cell_type": "code",
   "execution_count": null,
   "metadata": {},
   "outputs": [],
   "source": [
    "# Iterate over columns that should be purely numerical\n",
    "for column in ['LN_IC50', 'AUC', 'Z_SCORE']:\n",
    "    try:\n",
    "        # Try to convert the entire column to float\n",
    "        gdsc_alt[column] = gdsc_alt[column].astype(float)\n",
    "    except ValueError as e:\n",
    "        # If there's an error (i.e., some entries can't be converted), print the column name and the error\n",
    "        print(f\"Column {column} has non-numeric data: {e}\")\n",
    "\n"
   ]
  },
  {
   "cell_type": "code",
   "execution_count": null,
   "metadata": {},
   "outputs": [],
   "source": [
    "# List of numeric columns for which we want to compute correlations\n",
    "numeric_cols = ['LN_IC50', 'AUC', 'Z_SCORE']\n",
    "\n",
    "# Compute the correlation matrix for these columns\n",
    "correlation_matrix = gdsc_alt[numeric_cols].corr()\n",
    "\n",
    "# Print the resulting matrix\n",
    "print(correlation_matrix)\n"
   ]
  },
  {
   "cell_type": "code",
   "execution_count": null,
   "metadata": {},
   "outputs": [],
   "source": [
    "# Creates a Heatmap of the correlation matrix using plotly\n",
    "\n",
    "! pip install plotly"
   ]
  },
  {
   "cell_type": "code",
   "execution_count": null,
   "metadata": {},
   "outputs": [],
   "source": [
    "! pip install --upgrade nbformat\n"
   ]
  },
  {
   "cell_type": "code",
   "execution_count": null,
   "metadata": {},
   "outputs": [],
   "source": [
    "! pip install --upgrade nbformat"
   ]
  },
  {
   "cell_type": "code",
   "execution_count": null,
   "metadata": {},
   "outputs": [],
   "source": [
    "import plotly.figure_factory as ff\n",
    "\n",
    "# List of numeric columns for which we want to compute correlations\n",
    "numeric_cols = ['LN_IC50', 'AUC', 'Z_SCORE']\n",
    "\n",
    "# Compute the correlation matrix for these columns\n",
    "correlation_matrix = gdsc_alt[numeric_cols].corr()\n",
    "\n",
    "# Create a heatmap using plotly\n",
    "fig = ff.create_annotated_heatmap(\n",
    "    z=correlation_matrix.values,\n",
    "    x=list(correlation_matrix.columns),\n",
    "    y=list(correlation_matrix.index),\n",
    "    annotation_text=correlation_matrix.round(2).values,\n",
    "    colorscale='Viridis', # You can change this to other color scales like 'Blues', 'Reds', etc.\n",
    "    hoverinfo='z'\n",
    ")\n",
    "\n",
    "# Update layout for better visuals\n",
    "fig.update_layout(\n",
    "    title='Correlation Matrix',\n",
    "    xaxis=dict(title='Variable'),\n",
    "    yaxis=dict(title='Variable', autorange=\"reversed\"),\n",
    "    width=600, height=600\n",
    ")\n",
    "\n",
    "# Show the plot\n",
    "fig.show()\n"
   ]
  },
  {
   "cell_type": "code",
   "execution_count": null,
   "metadata": {},
   "outputs": [],
   "source": [
    "plt.figure(figsize=(10,6))\n",
    "sns.scatterplot(data=gdsc_alt, x=\"AUC\", y=\"LN_IC50\")\n",
    "plt.title(\"AUC vs. LN_IC50\")\n",
    "plt.show()"
   ]
  },
  {
   "cell_type": "code",
   "execution_count": null,
   "metadata": {},
   "outputs": [],
   "source": [
    "! pip install statsmodels\n"
   ]
  },
  {
   "cell_type": "code",
   "execution_count": null,
   "metadata": {},
   "outputs": [],
   "source": [
    "! pip install ipywidgets"
   ]
  },
  {
   "cell_type": "code",
   "execution_count": null,
   "metadata": {},
   "outputs": [],
   "source": [
    "import ipywidgets as widgets\n",
    "import plotly.express as px\n",
    "from IPython.display import display\n",
    "\n",
    "# Dropdown menu for drug selection\n",
    "drug_dropdown = widgets.Dropdown(\n",
    "    options=gdsc_alt['DRUG_NAME'].unique(),\n",
    "    value=gdsc_alt['DRUG_NAME'].unique()[0],\n",
    "    description='Drug:',\n",
    ")\n",
    "\n",
    "# Function to update the scatter plot based on drug selection\n",
    "def update_plot(drug):\n",
    "    filtered_data = gdsc_alt[gdsc_alt['DRUG_NAME'] == drug]\n",
    "    \n",
    "    fig = px.scatter(filtered_data, x=\"AUC\", y=\"LN_IC50\", color=\"DRUG_NAME\", \n",
    "                     hover_data=['CELL_LINE_NAME', 'DRUG_NAME'],\n",
    "                     color_discrete_sequence=px.colors.qualitative.Set1\n",
    "                    )\n",
    "    \n",
    "    fig.update_layout(title=f\"AUC vs. LN_IC50 for {drug}\", \n",
    "                      xaxis_title=\"AUC\", \n",
    "                      yaxis_title=\"LN_IC50\"\n",
    "                     )\n",
    "    \n",
    "    fig.show()\n",
    "\n",
    "widgets.interactive(update_plot, drug=drug_dropdown)\n"
   ]
  },
  {
   "cell_type": "markdown",
   "metadata": {},
   "source": [
    "# Potential Machine Learning Models\n",
    "\n",
    "1. Predict LN_IC50 using AUC and other features of a drug\n",
    "2. Predict AUC using LN_IC50 and other features of a drug\n",
    "3. Predict drug response using LN_IC50 and other features of a drug\n",
    "4. predict ln_ic50 and auc using other features of a drug"
   ]
  },
  {
   "cell_type": "markdown",
   "metadata": {},
   "source": []
  }
 ],
 "metadata": {
  "kernelspec": {
   "display_name": "EDA",
   "language": "python",
   "name": "python3"
  },
  "language_info": {
   "codemirror_mode": {
    "name": "ipython",
    "version": 3
   },
   "file_extension": ".py",
   "mimetype": "text/x-python",
   "name": "python",
   "nbconvert_exporter": "python",
   "pygments_lexer": "ipython3",
   "version": "3.8.17"
  },
  "orig_nbformat": 4
 },
 "nbformat": 4,
 "nbformat_minor": 2
}
